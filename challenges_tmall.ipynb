{
 "cells": [
  {
   "cell_type": "markdown",
   "metadata": {},
   "source": [
    "# Web Scraping using Python - Try it yourself!  😎"
   ]
  },
  {
   "cell_type": "markdown",
   "metadata": {},
   "source": [
    "Let's start by importing the necessary libraries and parsing the very first page of one of the products (e.g. a notebook for taking notes 📓) on [TMall](https://list.tmall.com/search_product.htm?q=%B1%BE%D7%D3&type=p&vmarket=&spm=875.7931836%2FB.a2227oh.d100&xl=ben_1&from=mallfp..pc_1_suggest) website.\n"
   ]
  },
  {
   "cell_type": "markdown",
   "metadata": {},
   "source": [
    "Every paragraph in this document is a cell, that can contain other text description, or a snippet of runnable Python code.\n",
    "\n",
    "To run the cell, select it and click \"Run\" in the toolbar, or just press Shift-Enter. Double-clicking the cell allows you to edit its contents.\n",
    "\n",
    "**Pro tip 🤓:** Run your cells often to catch possible errors early!"
   ]
  },
  {
   "cell_type": "code",
   "execution_count": 31,
   "metadata": {},
   "outputs": [],
   "source": [
    "import requests\n",
    "from bs4 import BeautifulSoup\n",
    "\n",
    "item = \"\" #type a product that you want to search between quotes (e.g. \"notebook\" or \"本子\")\n",
    "url = f\"https://list.tmall.com/search_product.htm?q={item}\" # here we use 'literal string interpolation' to input our item\n",
    "response = requests.get(url)\n",
    "html = response.content\n",
    "scraped = BeautifulSoup(html, 'html.parser')"
   ]
  },
  {
   "cell_type": "markdown",
   "metadata": {},
   "source": [
    "After **running** a cell above, you'll be able to use the `scraped` variable to look for elements on the page.\n",
    "\n",
    "In order to see the page that we just run `scraped`, run a cell below. 👩‍💻"
   ]
  },
  {
   "cell_type": "code",
   "execution_count": 115,
   "metadata": {},
   "outputs": [],
   "source": [
    "# scraped "
   ]
  },
  {
   "cell_type": "markdown",
   "metadata": {},
   "source": [
    "### Challenge 1: Print the title of the page"
   ]
  },
  {
   "cell_type": "markdown",
   "metadata": {},
   "source": [
    "To print output in Python, you can use the `print()` function. It can either take a literal value as an argument`(print(\"hello\")`, `print(2))`, or a variable - in that case function will print the value that the variable refers to!\n",
    "\n",
    "```python\n",
    "name = \"Bob\"\n",
    "print(name) # => Bob\n",
    "```\n",
    "\n",
    "Remember you need to print just **text** inside the `<title>` tag, not the whole element!"
   ]
  },
  {
   "cell_type": "code",
   "execution_count": 33,
   "metadata": {},
   "outputs": [],
   "source": [
    "# write your code here\n",
    "\n",
    "\n"
   ]
  },
  {
   "cell_type": "markdown",
   "metadata": {},
   "source": [
    "<details>\n",
    "<summary>\n",
    "    <strong>Reveal answer 🤫</strong>\n",
    "</summary>\n",
    "<pre>\n",
    "page_title = scraped.title.text\n",
    "print(page_title)\n",
    "</pre>\n",
    "</details>"
   ]
  },
  {
   "cell_type": "markdown",
   "metadata": {},
   "source": [
    "### Challenge 2: Print a *price* of the first product on the page"
   ]
  },
  {
   "cell_type": "markdown",
   "metadata": {},
   "source": [
    "Remember how to locate a single element with BeautifulSoup."
   ]
  },
  {
   "cell_type": "code",
   "execution_count": 34,
   "metadata": {},
   "outputs": [],
   "source": [
    "# write your code here\n",
    "\n",
    "\n"
   ]
  },
  {
   "cell_type": "markdown",
   "metadata": {},
   "source": [
    "<details>\n",
    "<summary>\n",
    "    <strong>Reveal answer 🤫</strong>\n",
    "</summary>\n",
    "<pre>\n",
    "first_price = scraped.em.text\n",
    "print(first_price)\n",
    "</pre>\n",
    "</details>"
   ]
  },
  {
   "cell_type": "markdown",
   "metadata": {},
   "source": [
    "### Challenge 3: Print *all* prices from the page"
   ]
  },
  {
   "cell_type": "markdown",
   "metadata": {},
   "source": [
    "Use the BeautifulSoup methods that return a *collection* of elements. Remind yourself of how to **loop** over them(`for.. in..` constuct)\n",
    "```python\n",
    "for duck in ducks:\n",
    "    print(duck)\n",
    "```"
   ]
  },
  {
   "cell_type": "markdown",
   "metadata": {},
   "source": [
    "Here's how you can get rid of a currency symbol and convert text to a numerical value(given that the initial text value is in a variable called `price`):\n",
    "\n",
    "`price = float(price.text.lstrip(\"¥\"))`"
   ]
  },
  {
   "cell_type": "code",
   "execution_count": 116,
   "metadata": {},
   "outputs": [],
   "source": [
    "# write your code here\n",
    "\n",
    "\n"
   ]
  },
  {
   "cell_type": "markdown",
   "metadata": {},
   "source": [
    "<details>\n",
    "<summary>\n",
    "    <strong>Reveal answer 🤫</strong>\n",
    "</summary>\n",
    "<pre>\n",
    "prices = scraped.find_all(\"em\", title=True)\n",
    "for price in prices:\n",
    "    price_float = float(price.text.lstrip(\"¥\"))\n",
    "    print(price_float)\n",
    "</pre>\n",
    "</details>"
   ]
  },
  {
   "cell_type": "markdown",
   "metadata": {},
   "source": [
    "### Challenge 4: Print a title of the first product"
   ]
  },
  {
   "cell_type": "code",
   "execution_count": 36,
   "metadata": {},
   "outputs": [],
   "source": [
    "# write your code here\n",
    "\n",
    "\n"
   ]
  },
  {
   "cell_type": "markdown",
   "metadata": {},
   "source": [
    "<details>\n",
    "<summary>\n",
    "    <strong>Reveal answer 🤫</strong>\n",
    "</summary>\n",
    "<pre>\n",
    "first_title = scraped.find('p', class_ = 'productTitle').a['title']\n",
    "print(first_title)\n",
    "</pre>\n",
    "</details>"
   ]
  },
  {
   "cell_type": "markdown",
   "metadata": {},
   "source": [
    "### Challenge 5: Print *all* titles from the page"
   ]
  },
  {
   "cell_type": "markdown",
   "metadata": {},
   "source": [
    "Let's do the same operation that we did with prices.\n",
    "\n",
    "**Pro tip 🤓:** Don't blindly copy-paste code from the cell above. (some corrections needed)"
   ]
  },
  {
   "cell_type": "code",
   "execution_count": 40,
   "metadata": {},
   "outputs": [],
   "source": [
    "# write your code here\n",
    "\n",
    "\n"
   ]
  },
  {
   "cell_type": "markdown",
   "metadata": {},
   "source": [
    "<details>\n",
    "<summary>\n",
    "    <strong>Reveal answer 🤫</strong>\n",
    "</summary>\n",
    "<pre>\n",
    "titles = scraped.find_all('p', class_ = 'productTitle')\n",
    "for title in titles:\n",
    "    print(title.a['title'])\n",
    "</pre>\n",
    "</details>"
   ]
  },
  {
   "cell_type": "markdown",
   "metadata": {},
   "source": [
    "### Challenge 6: Get a corresponding price for each title"
   ]
  },
  {
   "cell_type": "markdown",
   "metadata": {},
   "source": [
    "This is how the resulting data structure should look like (a List of Dictionaries):\n",
    "```    \n",
    "[{'得力笔记本子b5记事本厚本子...': 15.8 }, \n",
    "{'玛丽小学生作业本批发小字本...': 12.8 }, \n",
    "{'晨光田字格练字本作业本...': 13.8 }, \n",
    "...]\n",
    "```    \n",
    "Note that the real descriptions will be much longer."
   ]
  },
  {
   "cell_type": "markdown",
   "metadata": {},
   "source": [
    "A reminder on how you can append a Dictionary into an List:\n",
    "\n",
    "```python\n",
    "title_prices = []\n",
    "\n",
    "# Iterate over all articles \n",
    "    # Get article's title as `title` \n",
    "    # Get article's price as `price`\n",
    "    title_prices.append({title: price})\n",
    "```    "
   ]
  },
  {
   "cell_type": "code",
   "execution_count": 76,
   "metadata": {},
   "outputs": [],
   "source": [
    "title_prices = []\n",
    "\n",
    "# write your code here\n",
    "\n",
    "for t_p in title_prices:\n",
    "    print(t_p)"
   ]
  },
  {
   "cell_type": "markdown",
   "metadata": {},
   "source": [
    "<details>\n",
    "<summary>\n",
    "<strong>Reveal answer 🤫</strong>\n",
    "</summary>\n",
    "<pre>\n",
    "title_prices = []\n",
    "\n",
    "products = scraped.select(\".product\")\n",
    "\n",
    "for product in products:\n",
    "    title = product.find('p', class_ = 'productTitle').a['title']\n",
    "    price = product.em.text\n",
    "    price_float = float(price.lstrip(\"¥\"))\n",
    "    title_prices.append({title: price_float}) # Create a Dictionary and append to Array\n",
    "\n",
    "for t_p in title_prices:\n",
    "    print(t_p)\n",
    "</pre>\n",
    "</details>"
   ]
  },
  {
   "cell_type": "markdown",
   "metadata": {},
   "source": [
    "## Above and beyond 🚀"
   ]
  },
  {
   "cell_type": "markdown",
   "metadata": {},
   "source": [
    "### ( Optional ) Challenge 7: Convert our list into a dataframe , display it and save as csv. 🤩\n"
   ]
  },
  {
   "cell_type": "markdown",
   "metadata": {},
   "source": [
    "First let's import a library 'pandas'"
   ]
  },
  {
   "cell_type": "code",
   "execution_count": 117,
   "metadata": {},
   "outputs": [],
   "source": [
    "import pandas as pd"
   ]
  },
  {
   "cell_type": "markdown",
   "metadata": {},
   "source": [
    "Do the same as we did in our livecode session"
   ]
  },
  {
   "cell_type": "code",
   "execution_count": 79,
   "metadata": {},
   "outputs": [],
   "source": [
    "df = pd.DataFrame(\n",
    "    # write your code here\n",
    "    \n",
    "    )\n",
    "df"
   ]
  },
  {
   "cell_type": "markdown",
   "metadata": {},
   "source": [
    "<details>\n",
    "<summary>\n",
    "    <strong>Reveal answer 🤫</strong>\n",
    "</summary>\n",
    "<pre>\n",
    "df = pd.DataFrame(\n",
    "    [(t, p) for a in title_prices for t, p in a.items()], columns=['Title','Prices']\n",
    "    )\n",
    "df\n",
    "</pre>\n",
    "</details>"
   ]
  },
  {
   "cell_type": "markdown",
   "metadata": {},
   "source": [
    "Give a path where you want to store the exported CSV.\n",
    "\n",
    "**Pro tip 🤓:** `index = False` removes an index column on the left"
   ]
  },
  {
   "cell_type": "code",
   "execution_count": null,
   "metadata": {},
   "outputs": [],
   "source": [
    "# Think up a name for or csv file and type it between quotes (e.g. CSV file\\File Name.csv)\n",
    "df.to_csv(r\"\", index = False)"
   ]
  },
  {
   "cell_type": "markdown",
   "metadata": {},
   "source": [
    "### ( Optional ) Challenge 8: Build a hitogram. 📊"
   ]
  },
  {
   "cell_type": "markdown",
   "metadata": {},
   "source": [
    "The [Seaborn Distplot](https://seaborn.pydata.org/generated/seaborn.distplot.html) is useful for seeing how non-repetative values are distributed."
   ]
  },
  {
   "cell_type": "code",
   "execution_count": 118,
   "metadata": {},
   "outputs": [],
   "source": [
    "import seaborn as sns\n",
    "import matplotlib.pyplot as plt"
   ]
  },
  {
   "cell_type": "code",
   "execution_count": null,
   "metadata": {},
   "outputs": [],
   "source": [
    "# write your code here\n",
    "\n",
    "\n"
   ]
  },
  {
   "cell_type": "markdown",
   "metadata": {},
   "source": [
    "<details>\n",
    "<summary>\n",
    "    <strong>Reveal answer 🤫</strong>\n",
    "</summary>\n",
    "<pre>\n",
    "sns.distplot(df['Price'])\n",
    "</pre>\n",
    "</details>"
   ]
  }
 ],
 "metadata": {
  "kernelspec": {
   "display_name": "Python 3",
   "language": "python",
   "name": "python3"
  },
  "language_info": {
   "codemirror_mode": {
    "name": "ipython",
    "version": 3
   },
   "file_extension": ".py",
   "mimetype": "text/x-python",
   "name": "python",
   "nbconvert_exporter": "python",
   "pygments_lexer": "ipython3",
   "version": "3.7.4"
  }
 },
 "nbformat": 4,
 "nbformat_minor": 2
}
